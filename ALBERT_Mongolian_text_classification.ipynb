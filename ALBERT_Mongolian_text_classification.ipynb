{
  "nbformat": 4,
  "nbformat_minor": 0,
  "metadata": {
    "colab": {
      "name": "ALBERT_Mongolian_text_classification.ipynb",
      "provenance": [],
      "collapsed_sections": [
        "caMvdHeDJGOx"
      ],
      "toc_visible": true,
      "authorship_tag": "ABX9TyP+wzP47RaMgq0+kEp17Vpk",
      "include_colab_link": true
    },
    "kernelspec": {
      "name": "python3",
      "display_name": "Python 3"
    },
    "accelerator": "TPU"
  },
  "cells": [
    {
      "cell_type": "markdown",
      "metadata": {
        "id": "view-in-github",
        "colab_type": "text"
      },
      "source": [
        "<a href=\"https://colab.research.google.com/github/bayartsogt-ya/albert-mongolian/blob/master/ALBERT_Mongolian_text_classification.ipynb\" target=\"_parent\"><img src=\"https://colab.research.google.com/assets/colab-badge.svg\" alt=\"Open In Colab\"/></a>"
      ]
    },
    {
      "cell_type": "markdown",
      "metadata": {
        "id": "D7GgMGQ_b3HU",
        "colab_type": "text"
      },
      "source": [
        "# Text Classification using ALBERT-Mongolian\n",
        "\n",
        "Сайн байна уу?\n",
        "\n",
        "Энэхүү notebook нь [`ALBERT-Mongolian`](https://huggingface.co/bayartsogt/albert-mongolian) ашиглан хэрхэн `TF Keras` дээр текст ангилал хийхийг харуулах болно.\n",
        "\n",
        "Notebook-ийн төгсгөлд та eduge.mn сайтын мэдээний өгөгдлийг **~90%** таах чадвартай модельтэй болох ба энэхүү үр дүн нь ердөө эхлэл ба цааш сайжрах бүрэн боломжтой юм.\n",
        "\n",
        "Notebook-ийн дараалал:\n",
        "\n",
        "1. [Бэлтгэл ажил](#scrollTo=caMvdHeDJGOx)\n",
        "2. [Өгөгдөл](#scrollTo=lUXesMU1c5Sq)\n",
        "3. [Tokenize хийх](#scrollTo=PJsBXhkvc7L5)\n",
        "4. [Модель ба сургалт](#scrollTo=1LEnvmjDdNlZ)\n",
        "5. [Үр дүн](#scrollTo=FmJPTVHI4E6g)\n",
        "\n",
        "```\n",
        "used lang: python 3.6\n",
        "TF version: 2.1\n",
        "author: Bayartsogt Yadamsuren\n",
        "```\n"
      ]
    },
    {
      "cell_type": "markdown",
      "metadata": {
        "id": "caMvdHeDJGOx",
        "colab_type": "text"
      },
      "source": [
        "## Бэлтгэл ажил"
      ]
    },
    {
      "cell_type": "code",
      "metadata": {
        "id": "vS3d81vOdX5F",
        "colab_type": "code",
        "colab": {
          "base_uri": "https://localhost:8080/",
          "height": 1000
        },
        "outputId": "673c2933-fcb4-45ab-b190-0406b02670af"
      },
      "source": [
        "! pip install -q transformers\n",
        "! pip install -q tensorflow==2.1.0 # 2.2 дээр тест хийгээгүй болно!"
      ],
      "execution_count": 1,
      "outputs": [
        {
          "output_type": "stream",
          "text": [
            "\u001b[K     |████████████████████████████████| 778kB 3.3MB/s \n",
            "\u001b[K     |████████████████████████████████| 3.0MB 11.6MB/s \n",
            "\u001b[K     |████████████████████████████████| 890kB 17.4MB/s \n",
            "\u001b[K     |████████████████████████████████| 1.1MB 19.3MB/s \n",
            "\u001b[?25h  Building wheel for sacremoses (setup.py) ... \u001b[?25l\u001b[?25hdone\n",
            "Collecting tensorflow==2.1.0\n",
            "\u001b[?25l  Downloading https://files.pythonhosted.org/packages/85/d4/c0cd1057b331bc38b65478302114194bd8e1b9c2bbc06e300935c0e93d90/tensorflow-2.1.0-cp36-cp36m-manylinux2010_x86_64.whl (421.8MB)\n",
            "\u001b[K     |████████████████████████████████| 421.8MB 38kB/s \n",
            "\u001b[?25hRequirement already satisfied: numpy<2.0,>=1.16.0 in /usr/local/lib/python3.6/dist-packages (from tensorflow==2.1.0) (1.18.5)\n",
            "Requirement already satisfied: wheel>=0.26; python_version >= \"3\" in /usr/local/lib/python3.6/dist-packages (from tensorflow==2.1.0) (0.34.2)\n",
            "Requirement already satisfied: six>=1.12.0 in /usr/local/lib/python3.6/dist-packages (from tensorflow==2.1.0) (1.15.0)\n",
            "Requirement already satisfied: opt-einsum>=2.3.2 in /usr/local/lib/python3.6/dist-packages (from tensorflow==2.1.0) (3.3.0)\n",
            "Requirement already satisfied: protobuf>=3.8.0 in /usr/local/lib/python3.6/dist-packages (from tensorflow==2.1.0) (3.12.2)\n",
            "Requirement already satisfied: absl-py>=0.7.0 in /usr/local/lib/python3.6/dist-packages (from tensorflow==2.1.0) (0.9.0)\n",
            "Requirement already satisfied: keras-preprocessing>=1.1.0 in /usr/local/lib/python3.6/dist-packages (from tensorflow==2.1.0) (1.1.2)\n",
            "Requirement already satisfied: astor>=0.6.0 in /usr/local/lib/python3.6/dist-packages (from tensorflow==2.1.0) (0.8.1)\n",
            "Requirement already satisfied: grpcio>=1.8.6 in /usr/local/lib/python3.6/dist-packages (from tensorflow==2.1.0) (1.30.0)\n",
            "Requirement already satisfied: scipy==1.4.1; python_version >= \"3\" in /usr/local/lib/python3.6/dist-packages (from tensorflow==2.1.0) (1.4.1)\n",
            "Collecting tensorboard<2.2.0,>=2.1.0\n",
            "\u001b[?25l  Downloading https://files.pythonhosted.org/packages/d9/41/bbf49b61370e4f4d245d4c6051dfb6db80cec672605c91b1652ac8cc3d38/tensorboard-2.1.1-py3-none-any.whl (3.8MB)\n",
            "\u001b[K     |████████████████████████████████| 3.9MB 4.5MB/s \n",
            "\u001b[?25hCollecting tensorflow-estimator<2.2.0,>=2.1.0rc0\n",
            "\u001b[?25l  Downloading https://files.pythonhosted.org/packages/18/90/b77c328a1304437ab1310b463e533fa7689f4bfc41549593056d812fab8e/tensorflow_estimator-2.1.0-py2.py3-none-any.whl (448kB)\n",
            "\u001b[K     |████████████████████████████████| 450kB 25.8MB/s \n",
            "\u001b[?25hRequirement already satisfied: wrapt>=1.11.1 in /usr/local/lib/python3.6/dist-packages (from tensorflow==2.1.0) (1.12.1)\n",
            "Requirement already satisfied: google-pasta>=0.1.6 in /usr/local/lib/python3.6/dist-packages (from tensorflow==2.1.0) (0.2.0)\n",
            "Requirement already satisfied: keras-applications>=1.0.8 in /usr/local/lib/python3.6/dist-packages (from tensorflow==2.1.0) (1.0.8)\n",
            "Collecting gast==0.2.2\n",
            "  Downloading https://files.pythonhosted.org/packages/4e/35/11749bf99b2d4e3cceb4d55ca22590b0d7c2c62b9de38ac4a4a7f4687421/gast-0.2.2.tar.gz\n",
            "Requirement already satisfied: termcolor>=1.1.0 in /usr/local/lib/python3.6/dist-packages (from tensorflow==2.1.0) (1.1.0)\n",
            "Requirement already satisfied: setuptools in /usr/local/lib/python3.6/dist-packages (from protobuf>=3.8.0->tensorflow==2.1.0) (49.1.0)\n",
            "Requirement already satisfied: markdown>=2.6.8 in /usr/local/lib/python3.6/dist-packages (from tensorboard<2.2.0,>=2.1.0->tensorflow==2.1.0) (3.2.2)\n",
            "Requirement already satisfied: google-auth<2,>=1.6.3 in /usr/local/lib/python3.6/dist-packages (from tensorboard<2.2.0,>=2.1.0->tensorflow==2.1.0) (1.17.2)\n",
            "Requirement already satisfied: google-auth-oauthlib<0.5,>=0.4.1 in /usr/local/lib/python3.6/dist-packages (from tensorboard<2.2.0,>=2.1.0->tensorflow==2.1.0) (0.4.1)\n",
            "Requirement already satisfied: requests<3,>=2.21.0 in /usr/local/lib/python3.6/dist-packages (from tensorboard<2.2.0,>=2.1.0->tensorflow==2.1.0) (2.23.0)\n",
            "Requirement already satisfied: werkzeug>=0.11.15 in /usr/local/lib/python3.6/dist-packages (from tensorboard<2.2.0,>=2.1.0->tensorflow==2.1.0) (1.0.1)\n",
            "Requirement already satisfied: h5py in /usr/local/lib/python3.6/dist-packages (from keras-applications>=1.0.8->tensorflow==2.1.0) (2.10.0)\n",
            "Requirement already satisfied: importlib-metadata; python_version < \"3.8\" in /usr/local/lib/python3.6/dist-packages (from markdown>=2.6.8->tensorboard<2.2.0,>=2.1.0->tensorflow==2.1.0) (1.7.0)\n",
            "Requirement already satisfied: pyasn1-modules>=0.2.1 in /usr/local/lib/python3.6/dist-packages (from google-auth<2,>=1.6.3->tensorboard<2.2.0,>=2.1.0->tensorflow==2.1.0) (0.2.8)\n",
            "Requirement already satisfied: rsa<5,>=3.1.4; python_version >= \"3\" in /usr/local/lib/python3.6/dist-packages (from google-auth<2,>=1.6.3->tensorboard<2.2.0,>=2.1.0->tensorflow==2.1.0) (4.6)\n",
            "Requirement already satisfied: cachetools<5.0,>=2.0.0 in /usr/local/lib/python3.6/dist-packages (from google-auth<2,>=1.6.3->tensorboard<2.2.0,>=2.1.0->tensorflow==2.1.0) (4.1.1)\n",
            "Requirement already satisfied: requests-oauthlib>=0.7.0 in /usr/local/lib/python3.6/dist-packages (from google-auth-oauthlib<0.5,>=0.4.1->tensorboard<2.2.0,>=2.1.0->tensorflow==2.1.0) (1.3.0)\n",
            "Requirement already satisfied: certifi>=2017.4.17 in /usr/local/lib/python3.6/dist-packages (from requests<3,>=2.21.0->tensorboard<2.2.0,>=2.1.0->tensorflow==2.1.0) (2020.6.20)\n",
            "Requirement already satisfied: idna<3,>=2.5 in /usr/local/lib/python3.6/dist-packages (from requests<3,>=2.21.0->tensorboard<2.2.0,>=2.1.0->tensorflow==2.1.0) (2.10)\n",
            "Requirement already satisfied: chardet<4,>=3.0.2 in /usr/local/lib/python3.6/dist-packages (from requests<3,>=2.21.0->tensorboard<2.2.0,>=2.1.0->tensorflow==2.1.0) (3.0.4)\n",
            "Requirement already satisfied: urllib3!=1.25.0,!=1.25.1,<1.26,>=1.21.1 in /usr/local/lib/python3.6/dist-packages (from requests<3,>=2.21.0->tensorboard<2.2.0,>=2.1.0->tensorflow==2.1.0) (1.24.3)\n",
            "Requirement already satisfied: zipp>=0.5 in /usr/local/lib/python3.6/dist-packages (from importlib-metadata; python_version < \"3.8\"->markdown>=2.6.8->tensorboard<2.2.0,>=2.1.0->tensorflow==2.1.0) (3.1.0)\n",
            "Requirement already satisfied: pyasn1<0.5.0,>=0.4.6 in /usr/local/lib/python3.6/dist-packages (from pyasn1-modules>=0.2.1->google-auth<2,>=1.6.3->tensorboard<2.2.0,>=2.1.0->tensorflow==2.1.0) (0.4.8)\n",
            "Requirement already satisfied: oauthlib>=3.0.0 in /usr/local/lib/python3.6/dist-packages (from requests-oauthlib>=0.7.0->google-auth-oauthlib<0.5,>=0.4.1->tensorboard<2.2.0,>=2.1.0->tensorflow==2.1.0) (3.1.0)\n",
            "Building wheels for collected packages: gast\n",
            "  Building wheel for gast (setup.py) ... \u001b[?25l\u001b[?25hdone\n",
            "  Created wheel for gast: filename=gast-0.2.2-cp36-none-any.whl size=7540 sha256=1627a30eb70b0869832dc923f358a951a47c0ed01954a9ce410e72be46149072\n",
            "  Stored in directory: /root/.cache/pip/wheels/5c/2e/7e/a1d4d4fcebe6c381f378ce7743a3ced3699feb89bcfbdadadd\n",
            "Successfully built gast\n",
            "\u001b[31mERROR: tensorflow-probability 0.10.0 has requirement gast>=0.3.2, but you'll have gast 0.2.2 which is incompatible.\u001b[0m\n",
            "Installing collected packages: tensorboard, tensorflow-estimator, gast, tensorflow\n",
            "  Found existing installation: tensorboard 2.2.2\n",
            "    Uninstalling tensorboard-2.2.2:\n",
            "      Successfully uninstalled tensorboard-2.2.2\n",
            "  Found existing installation: tensorflow-estimator 2.2.0\n",
            "    Uninstalling tensorflow-estimator-2.2.0:\n",
            "      Successfully uninstalled tensorflow-estimator-2.2.0\n",
            "  Found existing installation: gast 0.3.3\n",
            "    Uninstalling gast-0.3.3:\n",
            "      Successfully uninstalled gast-0.3.3\n",
            "  Found existing installation: tensorflow 2.2.0\n",
            "    Uninstalling tensorflow-2.2.0:\n",
            "      Successfully uninstalled tensorflow-2.2.0\n",
            "Successfully installed gast-0.2.2 tensorboard-2.1.1 tensorflow-2.1.0 tensorflow-estimator-2.1.0\n"
          ],
          "name": "stdout"
        }
      ]
    },
    {
      "cell_type": "markdown",
      "metadata": {
        "id": "4sEvCYNUroi2",
        "colab_type": "text"
      },
      "source": [
        "Хэрэгтэй сангуудаа import хийж оруулж ирье!"
      ]
    },
    {
      "cell_type": "code",
      "metadata": {
        "id": "LLKVip7ieGTe",
        "colab_type": "code",
        "colab": {
          "base_uri": "https://localhost:8080/",
          "height": 88
        },
        "outputId": "4a3d4fbb-fa6e-4431-f870-cb4acd191344"
      },
      "source": [
        "import gc\n",
        "import logging\n",
        "\n",
        "import numpy as np\n",
        "import pandas as pd\n",
        "\n",
        "from time import time\n",
        "from tqdm import tqdm\n",
        "\n",
        "import seaborn as sns\n",
        "import matplotlib.pyplot as plt\n",
        "\n",
        "import tensorflow as tf\n",
        "from transformers import TFAlbertModel, AlbertTokenizer\n",
        "\n",
        "from sklearn.model_selection import train_test_split\n",
        "\n",
        "print(tf.__version__)"
      ],
      "execution_count": 2,
      "outputs": [
        {
          "output_type": "stream",
          "text": [
            "/usr/local/lib/python3.6/dist-packages/statsmodels/tools/_testing.py:19: FutureWarning: pandas.util.testing is deprecated. Use the functions in the public API at pandas.testing instead.\n",
            "  import pandas.util.testing as tm\n"
          ],
          "name": "stderr"
        },
        {
          "output_type": "stream",
          "text": [
            "2.1.0\n"
          ],
          "name": "stdout"
        }
      ]
    },
    {
      "cell_type": "markdown",
      "metadata": {
        "id": "YtjSkSZ7JARX",
        "colab_type": "text"
      },
      "source": [
        "### TPU-г ачааллая"
      ]
    },
    {
      "cell_type": "code",
      "metadata": {
        "id": "CoD-WO4hUiRG",
        "colab_type": "code",
        "colab": {
          "base_uri": "https://localhost:8080/",
          "height": 748
        },
        "outputId": "0dc2bc97-22c8-49b1-8668-8386b46a2dc8"
      },
      "source": [
        "# Detect hardware, return appropriate distribution strategy\n",
        "try:\n",
        "    # TPU detection. No parameters necessary if TPU_NAME environment \n",
        "    # variable is set. On Kaggle this is always the case.\n",
        "    tpu = tf.distribute.cluster_resolver.TPUClusterResolver()  \n",
        "    print('Running on TPU ', tpu.master())\n",
        "except ValueError:\n",
        "    tpu = None\n",
        "\n",
        "if tpu:\n",
        "    tf.config.experimental_connect_to_cluster(tpu)\n",
        "    tf.tpu.experimental.initialize_tpu_system(tpu)\n",
        "    strategy = tf.distribute.experimental.TPUStrategy(tpu)\n",
        "else:\n",
        "    # default distribution strategy in Tensorflow. Works on CPU and single GPU.\n",
        "    strategy = tf.distribute.get_strategy() \n",
        "\n",
        "print(\"REPLICAS: \", strategy.num_replicas_in_sync)"
      ],
      "execution_count": 3,
      "outputs": [
        {
          "output_type": "stream",
          "text": [
            "INFO:absl:Entering into master device scope: /job:worker/replica:0/task:0/device:CPU:0\n"
          ],
          "name": "stderr"
        },
        {
          "output_type": "stream",
          "text": [
            "Running on TPU  grpc://10.81.81.218:8470\n",
            "INFO:tensorflow:Initializing the TPU system: 10.81.81.218:8470\n"
          ],
          "name": "stdout"
        },
        {
          "output_type": "stream",
          "text": [
            "INFO:tensorflow:Initializing the TPU system: 10.81.81.218:8470\n"
          ],
          "name": "stderr"
        },
        {
          "output_type": "stream",
          "text": [
            "INFO:tensorflow:Clearing out eager caches\n"
          ],
          "name": "stdout"
        },
        {
          "output_type": "stream",
          "text": [
            "INFO:tensorflow:Clearing out eager caches\n"
          ],
          "name": "stderr"
        },
        {
          "output_type": "stream",
          "text": [
            "INFO:tensorflow:Finished initializing TPU system.\n"
          ],
          "name": "stdout"
        },
        {
          "output_type": "stream",
          "text": [
            "INFO:tensorflow:Finished initializing TPU system.\n"
          ],
          "name": "stderr"
        },
        {
          "output_type": "stream",
          "text": [
            "INFO:tensorflow:Found TPU system:\n"
          ],
          "name": "stdout"
        },
        {
          "output_type": "stream",
          "text": [
            "INFO:tensorflow:Found TPU system:\n"
          ],
          "name": "stderr"
        },
        {
          "output_type": "stream",
          "text": [
            "INFO:tensorflow:*** Num TPU Cores: 8\n"
          ],
          "name": "stdout"
        },
        {
          "output_type": "stream",
          "text": [
            "INFO:tensorflow:*** Num TPU Cores: 8\n"
          ],
          "name": "stderr"
        },
        {
          "output_type": "stream",
          "text": [
            "INFO:tensorflow:*** Num TPU Workers: 1\n"
          ],
          "name": "stdout"
        },
        {
          "output_type": "stream",
          "text": [
            "INFO:tensorflow:*** Num TPU Workers: 1\n"
          ],
          "name": "stderr"
        },
        {
          "output_type": "stream",
          "text": [
            "INFO:tensorflow:*** Num TPU Cores Per Worker: 8\n"
          ],
          "name": "stdout"
        },
        {
          "output_type": "stream",
          "text": [
            "INFO:tensorflow:*** Num TPU Cores Per Worker: 8\n"
          ],
          "name": "stderr"
        },
        {
          "output_type": "stream",
          "text": [
            "INFO:tensorflow:*** Available Device: _DeviceAttributes(/job:localhost/replica:0/task:0/device:CPU:0, CPU, 0, 0)\n"
          ],
          "name": "stdout"
        },
        {
          "output_type": "stream",
          "text": [
            "INFO:tensorflow:*** Available Device: _DeviceAttributes(/job:localhost/replica:0/task:0/device:CPU:0, CPU, 0, 0)\n"
          ],
          "name": "stderr"
        },
        {
          "output_type": "stream",
          "text": [
            "INFO:tensorflow:*** Available Device: _DeviceAttributes(/job:localhost/replica:0/task:0/device:XLA_CPU:0, XLA_CPU, 0, 0)\n"
          ],
          "name": "stdout"
        },
        {
          "output_type": "stream",
          "text": [
            "INFO:tensorflow:*** Available Device: _DeviceAttributes(/job:localhost/replica:0/task:0/device:XLA_CPU:0, XLA_CPU, 0, 0)\n"
          ],
          "name": "stderr"
        },
        {
          "output_type": "stream",
          "text": [
            "INFO:tensorflow:*** Available Device: _DeviceAttributes(/job:worker/replica:0/task:0/device:CPU:0, CPU, 0, 0)\n"
          ],
          "name": "stdout"
        },
        {
          "output_type": "stream",
          "text": [
            "INFO:tensorflow:*** Available Device: _DeviceAttributes(/job:worker/replica:0/task:0/device:CPU:0, CPU, 0, 0)\n"
          ],
          "name": "stderr"
        },
        {
          "output_type": "stream",
          "text": [
            "INFO:tensorflow:*** Available Device: _DeviceAttributes(/job:worker/replica:0/task:0/device:TPU:0, TPU, 0, 0)\n"
          ],
          "name": "stdout"
        },
        {
          "output_type": "stream",
          "text": [
            "INFO:tensorflow:*** Available Device: _DeviceAttributes(/job:worker/replica:0/task:0/device:TPU:0, TPU, 0, 0)\n"
          ],
          "name": "stderr"
        },
        {
          "output_type": "stream",
          "text": [
            "INFO:tensorflow:*** Available Device: _DeviceAttributes(/job:worker/replica:0/task:0/device:TPU:1, TPU, 0, 0)\n"
          ],
          "name": "stdout"
        },
        {
          "output_type": "stream",
          "text": [
            "INFO:tensorflow:*** Available Device: _DeviceAttributes(/job:worker/replica:0/task:0/device:TPU:1, TPU, 0, 0)\n"
          ],
          "name": "stderr"
        },
        {
          "output_type": "stream",
          "text": [
            "INFO:tensorflow:*** Available Device: _DeviceAttributes(/job:worker/replica:0/task:0/device:TPU:2, TPU, 0, 0)\n"
          ],
          "name": "stdout"
        },
        {
          "output_type": "stream",
          "text": [
            "INFO:tensorflow:*** Available Device: _DeviceAttributes(/job:worker/replica:0/task:0/device:TPU:2, TPU, 0, 0)\n"
          ],
          "name": "stderr"
        },
        {
          "output_type": "stream",
          "text": [
            "INFO:tensorflow:*** Available Device: _DeviceAttributes(/job:worker/replica:0/task:0/device:TPU:3, TPU, 0, 0)\n"
          ],
          "name": "stdout"
        },
        {
          "output_type": "stream",
          "text": [
            "INFO:tensorflow:*** Available Device: _DeviceAttributes(/job:worker/replica:0/task:0/device:TPU:3, TPU, 0, 0)\n"
          ],
          "name": "stderr"
        },
        {
          "output_type": "stream",
          "text": [
            "INFO:tensorflow:*** Available Device: _DeviceAttributes(/job:worker/replica:0/task:0/device:TPU:4, TPU, 0, 0)\n"
          ],
          "name": "stdout"
        },
        {
          "output_type": "stream",
          "text": [
            "INFO:tensorflow:*** Available Device: _DeviceAttributes(/job:worker/replica:0/task:0/device:TPU:4, TPU, 0, 0)\n"
          ],
          "name": "stderr"
        },
        {
          "output_type": "stream",
          "text": [
            "INFO:tensorflow:*** Available Device: _DeviceAttributes(/job:worker/replica:0/task:0/device:TPU:5, TPU, 0, 0)\n"
          ],
          "name": "stdout"
        },
        {
          "output_type": "stream",
          "text": [
            "INFO:tensorflow:*** Available Device: _DeviceAttributes(/job:worker/replica:0/task:0/device:TPU:5, TPU, 0, 0)\n"
          ],
          "name": "stderr"
        },
        {
          "output_type": "stream",
          "text": [
            "INFO:tensorflow:*** Available Device: _DeviceAttributes(/job:worker/replica:0/task:0/device:TPU:6, TPU, 0, 0)\n"
          ],
          "name": "stdout"
        },
        {
          "output_type": "stream",
          "text": [
            "INFO:tensorflow:*** Available Device: _DeviceAttributes(/job:worker/replica:0/task:0/device:TPU:6, TPU, 0, 0)\n"
          ],
          "name": "stderr"
        },
        {
          "output_type": "stream",
          "text": [
            "INFO:tensorflow:*** Available Device: _DeviceAttributes(/job:worker/replica:0/task:0/device:TPU:7, TPU, 0, 0)\n"
          ],
          "name": "stdout"
        },
        {
          "output_type": "stream",
          "text": [
            "INFO:tensorflow:*** Available Device: _DeviceAttributes(/job:worker/replica:0/task:0/device:TPU:7, TPU, 0, 0)\n"
          ],
          "name": "stderr"
        },
        {
          "output_type": "stream",
          "text": [
            "INFO:tensorflow:*** Available Device: _DeviceAttributes(/job:worker/replica:0/task:0/device:TPU_SYSTEM:0, TPU_SYSTEM, 0, 0)\n"
          ],
          "name": "stdout"
        },
        {
          "output_type": "stream",
          "text": [
            "INFO:tensorflow:*** Available Device: _DeviceAttributes(/job:worker/replica:0/task:0/device:TPU_SYSTEM:0, TPU_SYSTEM, 0, 0)\n"
          ],
          "name": "stderr"
        },
        {
          "output_type": "stream",
          "text": [
            "INFO:tensorflow:*** Available Device: _DeviceAttributes(/job:worker/replica:0/task:0/device:XLA_CPU:0, XLA_CPU, 0, 0)\n"
          ],
          "name": "stdout"
        },
        {
          "output_type": "stream",
          "text": [
            "INFO:tensorflow:*** Available Device: _DeviceAttributes(/job:worker/replica:0/task:0/device:XLA_CPU:0, XLA_CPU, 0, 0)\n"
          ],
          "name": "stderr"
        },
        {
          "output_type": "stream",
          "text": [
            "REPLICAS:  8\n"
          ],
          "name": "stdout"
        }
      ]
    },
    {
      "cell_type": "markdown",
      "metadata": {
        "id": "lUXesMU1c5Sq",
        "colab_type": "text"
      },
      "source": [
        "## Өгөгдөл\n",
        "Энэ удаагийн сургалтыг **Эдүгэ** сайтын дата дээр туршиж үзэцгээе.\n",
        "\n",
        "Мөн туршилтын датаг [tugstugi/mongolian-nlp](https://github.com/tugstugi/mongolian-nlp) репогоос татаж авсан болно."
      ]
    },
    {
      "cell_type": "code",
      "metadata": {
        "id": "m0wSf3SKqmE-",
        "colab_type": "code",
        "colab": {
          "base_uri": "https://localhost:8080/",
          "height": 289
        },
        "outputId": "8f156a5e-c4d8-44fe-c5e0-2890292ca8e0"
      },
      "source": [
        "# downloading data\n",
        "! wget https://github.com/tugstugi/mongolian-nlp/raw/master/datasets/eduge.csv.gz\n",
        "! gunzip eduge.csv.gz"
      ],
      "execution_count": 4,
      "outputs": [
        {
          "output_type": "stream",
          "text": [
            "--2020-07-26 09:59:28--  https://github.com/tugstugi/mongolian-nlp/raw/master/datasets/eduge.csv.gz\n",
            "Resolving github.com (github.com)... 140.82.112.4\n",
            "Connecting to github.com (github.com)|140.82.112.4|:443... connected.\n",
            "HTTP request sent, awaiting response... 302 Found\n",
            "Location: https://raw.githubusercontent.com/tugstugi/mongolian-nlp/master/datasets/eduge.csv.gz [following]\n",
            "--2020-07-26 09:59:28--  https://raw.githubusercontent.com/tugstugi/mongolian-nlp/master/datasets/eduge.csv.gz\n",
            "Resolving raw.githubusercontent.com (raw.githubusercontent.com)... 151.101.0.133, 151.101.64.133, 151.101.128.133, ...\n",
            "Connecting to raw.githubusercontent.com (raw.githubusercontent.com)|151.101.0.133|:443... connected.\n",
            "HTTP request sent, awaiting response... 200 OK\n",
            "Length: 73951267 (71M) [application/octet-stream]\n",
            "Saving to: ‘eduge.csv.gz’\n",
            "\n",
            "eduge.csv.gz        100%[===================>]  70.53M  82.2MB/s    in 0.9s    \n",
            "\n",
            "2020-07-26 09:59:30 (82.2 MB/s) - ‘eduge.csv.gz’ saved [73951267/73951267]\n",
            "\n"
          ],
          "name": "stdout"
        }
      ]
    },
    {
      "cell_type": "markdown",
      "metadata": {
        "id": "N1XzqBYzJRMV",
        "colab_type": "text"
      },
      "source": [
        "Энэхүү ажил нь eduge датаг 9 ангилалд хуваах ба хэрвээ та хүсвэл 2 ангилалд буюу binary classification асуудалд ашигласан ч болно"
      ]
    },
    {
      "cell_type": "code",
      "metadata": {
        "id": "_cY0Gc4uq3OR",
        "colab_type": "code",
        "colab": {
          "base_uri": "https://localhost:8080/",
          "height": 111
        },
        "outputId": "e39c6d89-43c9-49e3-a568-169535319a04"
      },
      "source": [
        "# eduge_data = pd.read_csv(\"./eduge.csv\", nrows=7500) # binary classification болгохыг хүсвэл энэ мөрийг ажиллуулна\n",
        "eduge_data = pd.read_csv(\"./eduge.csv\")\n",
        "eduge_data.head(2)"
      ],
      "execution_count": 155,
      "outputs": [
        {
          "output_type": "execute_result",
          "data": {
            "text/html": [
              "<div>\n",
              "<style scoped>\n",
              "    .dataframe tbody tr th:only-of-type {\n",
              "        vertical-align: middle;\n",
              "    }\n",
              "\n",
              "    .dataframe tbody tr th {\n",
              "        vertical-align: top;\n",
              "    }\n",
              "\n",
              "    .dataframe thead th {\n",
              "        text-align: right;\n",
              "    }\n",
              "</style>\n",
              "<table border=\"1\" class=\"dataframe\">\n",
              "  <thead>\n",
              "    <tr style=\"text-align: right;\">\n",
              "      <th></th>\n",
              "      <th>news</th>\n",
              "      <th>label</th>\n",
              "    </tr>\n",
              "  </thead>\n",
              "  <tbody>\n",
              "    <tr>\n",
              "      <th>0</th>\n",
              "      <td>Киноны кадраас «Юрийн галавын үе» кино проката...</td>\n",
              "      <td>урлаг соёл</td>\n",
              "    </tr>\n",
              "    <tr>\n",
              "      <th>1</th>\n",
              "      <td>“Universal” кино компани Жадд Апатоугийн найру...</td>\n",
              "      <td>урлаг соёл</td>\n",
              "    </tr>\n",
              "  </tbody>\n",
              "</table>\n",
              "</div>"
            ],
            "text/plain": [
              "                                                news       label\n",
              "0  Киноны кадраас «Юрийн галавын үе» кино проката...  урлаг соёл\n",
              "1  “Universal” кино компани Жадд Апатоугийн найру...  урлаг соёл"
            ]
          },
          "metadata": {
            "tags": []
          },
          "execution_count": 155
        }
      ]
    },
    {
      "cell_type": "code",
      "metadata": {
        "id": "WXSy42U0sMHr",
        "colab_type": "code",
        "colab": {
          "base_uri": "https://localhost:8080/",
          "height": 313
        },
        "outputId": "f782761a-e677-4ba5-8147-4f80f5eba7c8"
      },
      "source": [
        "print(\"Энэхүү дата доторх *label* утгууд нь:\", eduge_data[\" label\"].unique())\n",
        "sns.countplot(data=eduge_data, y=\" label\");"
      ],
      "execution_count": 70,
      "outputs": [
        {
          "output_type": "stream",
          "text": [
            "Энэхүү дата доторх *label* утгууд нь: ['урлаг соёл' 'эдийн засаг' 'эрүүл мэнд' 'хууль' 'улс төр' 'спорт'\n",
            " 'технологи' 'боловсрол' 'байгал орчин']\n"
          ],
          "name": "stdout"
        },
        {
          "output_type": "display_data",
          "data": {
            "image/png": "[encoded data removed]",
            "text/plain": [
              "<Figure size 432x288 with 1 Axes>"
            ]
          },
          "metadata": {
            "tags": [],
            "needs_background": "light"
          }
        }
      ]
    },
    {
      "cell_type": "markdown",
      "metadata": {
        "id": "lk5WHt_RTNRW",
        "colab_type": "text"
      },
      "source": [
        "Дээрх histogram-аас харахад `спорт, улс төр, эдийн засаг` зэрэг ангилалд 12'000-аас их дата байгаа нь харагдаж байна."
      ]
    },
    {
      "cell_type": "code",
      "metadata": {
        "id": "pTv1FxjiwhlG",
        "colab_type": "code",
        "colab": {
          "base_uri": "https://localhost:8080/",
          "height": 71
        },
        "outputId": "e7c6f15b-882c-48d1-e2f3-3d771d6f77a0"
      },
      "source": [
        "id2label = {i:label for i, label in enumerate(eduge_data[\" label\"].unique())}\n",
        "label2id = {label:i for i, label in enumerate(eduge_data[\" label\"].unique())}\n",
        "print(id2label)\n",
        "print(label2id)"
      ],
      "execution_count": 71,
      "outputs": [
        {
          "output_type": "stream",
          "text": [
            "{0: 'урлаг соёл', 1: 'эдийн засаг', 2: 'эрүүл мэнд', 3: 'хууль', 4: 'улс төр', 5: 'спорт', 6: 'технологи', 7: 'боловсрол', 8: 'байгал орчин'}\n",
            "{'урлаг соёл': 0, 'эдийн засаг': 1, 'эрүүл мэнд': 2, 'хууль': 3, 'улс төр': 4, 'спорт': 5, 'технологи': 6, 'боловсрол': 7, 'байгал орчин': 8}\n"
          ],
          "name": "stdout"
        }
      ]
    },
    {
      "cell_type": "code",
      "metadata": {
        "id": "3OEWQlWYw-F0",
        "colab_type": "code",
        "colab": {
          "base_uri": "https://localhost:8080/",
          "height": 111
        },
        "outputId": "8d7d9f40-089d-4d30-ca98-bd546e68e7df"
      },
      "source": [
        "eduge_data[\" label\"] = eduge_data[\" label\"].apply(lambda x: label2id[x])\n",
        "eduge_data.head(2)"
      ],
      "execution_count": 72,
      "outputs": [
        {
          "output_type": "execute_result",
          "data": {
            "text/html": [
              "<div>\n",
              "<style scoped>\n",
              "    .dataframe tbody tr th:only-of-type {\n",
              "        vertical-align: middle;\n",
              "    }\n",
              "\n",
              "    .dataframe tbody tr th {\n",
              "        vertical-align: top;\n",
              "    }\n",
              "\n",
              "    .dataframe thead th {\n",
              "        text-align: right;\n",
              "    }\n",
              "</style>\n",
              "<table border=\"1\" class=\"dataframe\">\n",
              "  <thead>\n",
              "    <tr style=\"text-align: right;\">\n",
              "      <th></th>\n",
              "      <th>news</th>\n",
              "      <th>label</th>\n",
              "    </tr>\n",
              "  </thead>\n",
              "  <tbody>\n",
              "    <tr>\n",
              "      <th>0</th>\n",
              "      <td>Киноны кадраас «Юрийн галавын үе» кино проката...</td>\n",
              "      <td>0</td>\n",
              "    </tr>\n",
              "    <tr>\n",
              "      <th>1</th>\n",
              "      <td>“Universal” кино компани Жадд Апатоугийн найру...</td>\n",
              "      <td>0</td>\n",
              "    </tr>\n",
              "  </tbody>\n",
              "</table>\n",
              "</div>"
            ],
            "text/plain": [
              "                                                news   label\n",
              "0  Киноны кадраас «Юрийн галавын үе» кино проката...       0\n",
              "1  “Universal” кино компани Жадд Апатоугийн найру...       0"
            ]
          },
          "metadata": {
            "tags": []
          },
          "execution_count": 72
        }
      ]
    },
    {
      "cell_type": "markdown",
      "metadata": {
        "id": "Fwl5Q97EJ9Go",
        "colab_type": "text"
      },
      "source": [
        "Датаныхаа 20%-ийг сургасан моделио тест хийхэд ашиглахаар үлдээе!"
      ]
    },
    {
      "cell_type": "code",
      "metadata": {
        "id": "V0bXXrwktQWZ",
        "colab_type": "code",
        "colab": {
          "base_uri": "https://localhost:8080/",
          "height": 34
        },
        "outputId": "dfbbeb48-2669-439e-d6fb-39dc62d33d97"
      },
      "source": [
        "# data split\n",
        "X_train, X_test, y_train, y_test = train_test_split(eduge_data[\"news\"], eduge_data[\" label\"], test_size=0.2, random_state=42)\n",
        "print(X_train.shape, X_test.shape, y_train.shape, y_test.shape)"
      ],
      "execution_count": 122,
      "outputs": [
        {
          "output_type": "stream",
          "text": [
            "(60528,) (15133,) (60528,) (15133,)\n"
          ],
          "name": "stdout"
        }
      ]
    },
    {
      "cell_type": "markdown",
      "metadata": {
        "id": "PJsBXhkvc7L5",
        "colab_type": "text"
      },
      "source": [
        "## Tokenize хийх"
      ]
    },
    {
      "cell_type": "markdown",
      "metadata": {
        "id": "Dv1SOSMmKKje",
        "colab_type": "text"
      },
      "source": [
        "ALBERT-Mongolian-ыг анх сургахдаа хамгийн уртдаа 512 урттай оролт ордог байхаар сургасан ба энэхүү туршилтад ч тэр setting-ээ дагаад MAX_LEN-г 512 оор тохируулж өгье. Ингэснээр 512 оос урт оролт орж ирвэл tokenize хийгээд эхний 512 тэмдэгтийг л цааш модельруу явуулах юм."
      ]
    },
    {
      "cell_type": "code",
      "metadata": {
        "id": "tAhaVpoBeudW",
        "colab_type": "code",
        "colab": {}
      },
      "source": [
        "MAX_LEN = 512"
      ],
      "execution_count": 131,
      "outputs": []
    },
    {
      "cell_type": "markdown",
      "metadata": {
        "id": "YgyiDuiAKdrd",
        "colab_type": "text"
      },
      "source": [
        "Доор ALBERT-Mongolian-ийг сургахад ашигласан моделийг оруулж ирж байна."
      ]
    },
    {
      "cell_type": "code",
      "metadata": {
        "id": "NKRU7tI0c7mD",
        "colab_type": "code",
        "colab": {}
      },
      "source": [
        "# read tokenizer\n",
        "tokenizer = AlbertTokenizer.from_pretrained(\"bayartsogt/albert-mongolian\")"
      ],
      "execution_count": 75,
      "outputs": []
    },
    {
      "cell_type": "markdown",
      "metadata": {
        "id": "hWjhSR5Rz8Jg",
        "colab_type": "text"
      },
      "source": [
        "Transformers суурьтай моделийн оролтын хэлбэрийн доор харуулж байна."
      ]
    },
    {
      "cell_type": "code",
      "metadata": {
        "id": "AAwnCkhVy1d-",
        "colab_type": "code",
        "colab": {
          "base_uri": "https://localhost:8080/",
          "height": 102
        },
        "outputId": "1f2ee67f-97f0-477c-a637-29efdb8f3662"
      },
      "source": [
        "# Жишээ + тайлбар\n",
        "texts = [\"Шинэ Монгол ч сайн сургууль шүү\"]\n",
        "texts_encoded = tokenizer.batch_encode_plus(texts, max_length=MAX_LEN, padding=True, truncation=True, return_tensors=\"np\")\n",
        "print(\"Жишээ:\")\n",
        "print([tokenizer.cls_token] + tokenizer.tokenize(texts[0]) + [tokenizer.eos_token] + [tokenizer.pad_token])\n",
        "print(texts_encoded[\"input_ids\"][0])\n",
        "print(texts_encoded[\"token_type_ids\"][0])\n",
        "print(texts_encoded[\"attention_mask\"][0])\n",
        "\n",
        "# sharvaa ахын блогийг энд тавьчихвал амар юм байна!"
      ],
      "execution_count": 76,
      "outputs": [
        {
          "output_type": "stream",
          "text": [
            "Жишээ:\n",
            "['[CLS]', '▁шинэ', '▁монгол', '▁ч', '▁са', 'ин', '▁сургууль', '▁шүү', '[SEP]', '<pad>']\n",
            "[    2   161   396    19 12331   848   479   164     3]\n",
            "[0 0 0 0 0 0 0 0 0]\n",
            "[1 1 1 1 1 1 1 1 1]\n"
          ],
          "name": "stdout"
        }
      ]
    },
    {
      "cell_type": "markdown",
      "metadata": {
        "id": "CzLRouw5Kmbc",
        "colab_type": "text"
      },
      "source": [
        "`[CLS]` тэмдэгт хамгийн урд нэмэгдсэн байгаа. Сургалтыг явцад ALBERT Mongolian-ий бүх гаралтыг бус энэхүү тэмдэгтийг илэрхийлэх векторыг энэхүү оролтыг илэрхүүлнэ гэж үзээд цааш явах юм.\n",
        "\n",
        "Доорх хүснэгтийн дагуу: \n",
        "* `input_ids` гэдэг нь тухайн token-ий index-ийг заана.\n",
        "* `token_type` гэдэг нь `[SEP]` урд байна уу хойно байн уу гэдгийг заана. Манай тохиолдолд байнга `0` байна\n",
        "* `attention_mask` гэдэг нь ямар нэг үгийг масклах үгүйг заана. Манай тохиолдолд ямар ч үг масклах буюу нуух шаардагагүй тул бүгд `1` байна.\n",
        "\n",
        "| |[CLS]|▁шинэ|▁монгол|▁ч|▁са|ин|▁сургууль|▁шүү|[SEP]|\n",
        "|---|---|---|---|---|---|---|---|---|---|\n",
        "|input_ids|2|161|396|19|12331|848|479|164|3|\n",
        "|token_type_ids|0|0|0|0|0|0|0|0|0|\n",
        "|attention_mask|1|1|1|1|1|1|1|1|1|\n",
        "\n"
      ]
    },
    {
      "cell_type": "code",
      "metadata": {
        "id": "Dtncx1uEh0A8",
        "colab_type": "code",
        "colab": {
          "base_uri": "https://localhost:8080/",
          "height": 85
        },
        "outputId": "63b31c31-04a2-4e74-dc59-26c8dab939e3"
      },
      "source": [
        "%%time\n",
        "X_train_encoded = tokenizer.batch_encode_plus(list(X_train), max_length=MAX_LEN, padding=True, truncation=True, return_tensors=\"np\")\n",
        "X_test_encoded  = tokenizer.batch_encode_plus(list(X_test), max_length=MAX_LEN, padding=True, truncation=True, return_tensors=\"np\")\n",
        "\n",
        "print(\"size:\", X_train_encoded[\"input_ids\"].shape)\n",
        "print(\"size:\", X_test_encoded[\"input_ids\"].shape)"
      ],
      "execution_count": 77,
      "outputs": [
        {
          "output_type": "stream",
          "text": [
            "size: (60528, 512)\n",
            "size: (15133, 512)\n",
            "CPU times: user 4min 48s, sys: 12.9 s, total: 5min 1s\n",
            "Wall time: 5min 2s\n"
          ],
          "name": "stdout"
        }
      ]
    },
    {
      "cell_type": "markdown",
      "metadata": {
        "id": "1LEnvmjDdNlZ",
        "colab_type": "text"
      },
      "source": [
        "## Модель ба сургалт"
      ]
    },
    {
      "cell_type": "code",
      "metadata": {
        "id": "v1RJLI22y4fC",
        "colab_type": "code",
        "colab": {
          "base_uri": "https://localhost:8080/",
          "height": 34
        },
        "outputId": "a25e05cc-1fb2-4f23-a8a5-8b9f89a92e88"
      },
      "source": [
        "print(\"нийт ангилалын тоо:\", len(label2id))"
      ],
      "execution_count": 123,
      "outputs": [
        {
          "output_type": "stream",
          "text": [
            "нийт ангилалын тоо: 9\n"
          ],
          "name": "stdout"
        }
      ]
    },
    {
      "cell_type": "markdown",
      "metadata": {
        "id": "xdfg2VQAUCHP",
        "colab_type": "text"
      },
      "source": [
        "Сонгосон архитектур нь:\n",
        "\n",
        "`INPUT(512) => ALBERT-MONGOLIAN(768) => DENSE_LAYER(9)`\n",
        "\n",
        "ба ALBERT-Mongolian-ийг transformers-санг ашиглан дуудаж оруулж ирсэн байна."
      ]
    },
    {
      "cell_type": "code",
      "metadata": {
        "id": "KBVAt0kydOAJ",
        "colab_type": "code",
        "colab": {}
      },
      "source": [
        "def build_model():\n",
        "\n",
        "    with strategy.scope(): # TPU RAM дээр модель оо үүсгэх үед ашиглана\n",
        "        ids = tf.keras.layers.Input((MAX_LEN,), dtype=tf.int32)\n",
        "        att = tf.keras.layers.Input((MAX_LEN,), dtype=tf.int32)\n",
        "        tok = tf.keras.layers.Input((MAX_LEN,), dtype=tf.int32)\n",
        "\n",
        "        bert_model = TFAlbertModel.from_pretrained('bayartsogt/albert-mongolian')\n",
        "        \n",
        "        x = bert_model(ids, attention_mask=att, token_type_ids=tok)[1] # getting class token value\n",
        "        x = tf.keras.layers.Dropout(0.2)(x)\n",
        "        \n",
        "        if len(label2id) == 2:\n",
        "            x = tf.keras.layers.Dense(1, activation=\"sigmoid\")(x)\n",
        "        else:\n",
        "            x = tf.keras.layers.Dense(len(label2id), activation=\"softmax\")(x)\n",
        "        \n",
        "        model = tf.keras.models.Model(inputs=[ids, att, tok], outputs=[x])\n",
        "\n",
        "        optimizer = tf.keras.optimizers.Adam(learning_rate=1e-5)\n",
        "        loss_name = \"binary_crossentropy\" if len(label2id) == 2 else \"sparse_categorical_crossentropy\"\n",
        "\n",
        "        print(\"Loss:\", loss_name)\n",
        "        model.compile(loss=loss_name, \n",
        "                      optimizer=optimizer, \n",
        "                      metrics=[\"accuracy\"])\n",
        "\n",
        "    return model"
      ],
      "execution_count": 145,
      "outputs": []
    },
    {
      "cell_type": "code",
      "metadata": {
        "id": "aX3tryX-g8YQ",
        "colab_type": "code",
        "colab": {
          "base_uri": "https://localhost:8080/",
          "height": 615
        },
        "outputId": "31d9fc05-12e2-4189-d5e1-3f227e5e4cc4"
      },
      "source": [
        "tf.keras.backend.clear_session()\n",
        "tf.tpu.experimental.initialize_tpu_system(tpu)\n",
        "\n",
        "model = build_model()\n",
        "model.summary()"
      ],
      "execution_count": 146,
      "outputs": [
        {
          "output_type": "stream",
          "text": [
            "WARNING:tensorflow:TPU system 10.81.81.218:8470 has already been initialized. Reinitializing the TPU can cause previously created variables on TPU to be lost.\n"
          ],
          "name": "stdout"
        },
        {
          "output_type": "stream",
          "text": [
            "WARNING:tensorflow:TPU system 10.81.81.218:8470 has already been initialized. Reinitializing the TPU can cause previously created variables on TPU to be lost.\n"
          ],
          "name": "stderr"
        },
        {
          "output_type": "stream",
          "text": [
            "INFO:tensorflow:Initializing the TPU system: 10.81.81.218:8470\n"
          ],
          "name": "stdout"
        },
        {
          "output_type": "stream",
          "text": [
            "INFO:tensorflow:Initializing the TPU system: 10.81.81.218:8470\n"
          ],
          "name": "stderr"
        },
        {
          "output_type": "stream",
          "text": [
            "INFO:tensorflow:Clearing out eager caches\n"
          ],
          "name": "stdout"
        },
        {
          "output_type": "stream",
          "text": [
            "INFO:tensorflow:Clearing out eager caches\n"
          ],
          "name": "stderr"
        },
        {
          "output_type": "stream",
          "text": [
            "INFO:tensorflow:Finished initializing TPU system.\n"
          ],
          "name": "stdout"
        },
        {
          "output_type": "stream",
          "text": [
            "INFO:tensorflow:Finished initializing TPU system.\n",
            "WARNING:transformers.modeling_tf_utils:Some weights of the model checkpoint at bayartsogt/albert-mongolian were not used when initializing TFAlbertModel: ['predictions']\n",
            "- This IS expected if you are initializing TFAlbertModel from the checkpoint of a model trained on another task or with another architecture (e.g. initializing a BertForSequenceClassification model from a BertForPretraining model).\n",
            "- This IS NOT expected if you are initializing TFAlbertModel from the checkpoint of a model that you expect to be exactly identical (initializing a BertForSequenceClassification model from a BertForSequenceClassification model).\n",
            "WARNING:transformers.modeling_tf_utils:All the weights of TFAlbertModel were initialized from the model checkpoint at bayartsogt/albert-mongolian.\n",
            "If your task is similar to the task the model of the ckeckpoint was trained on, you can already use TFAlbertModel for predictions without further training.\n"
          ],
          "name": "stderr"
        },
        {
          "output_type": "stream",
          "text": [
            "Loss: sparse_categorical_crossentropy\n",
            "Model: \"model\"\n",
            "__________________________________________________________________________________________________\n",
            "Layer (type)                    Output Shape         Param #     Connected to                     \n",
            "==================================================================================================\n",
            "input_1 (InputLayer)            [(None, 512)]        0                                            \n",
            "__________________________________________________________________________________________________\n",
            "input_2 (InputLayer)            [(None, 512)]        0                                            \n",
            "__________________________________________________________________________________________________\n",
            "input_3 (InputLayer)            [(None, 512)]        0                                            \n",
            "__________________________________________________________________________________________________\n",
            "tf_albert_model (TFAlbertModel) ((None, 512, 768), ( 11683584    input_1[0][0]                    \n",
            "__________________________________________________________________________________________________\n",
            "dropout_3 (Dropout)             (None, 768)          0           tf_albert_model[0][1]            \n",
            "__________________________________________________________________________________________________\n",
            "dense (Dense)                   (None, 9)            6921        dropout_3[0][0]                  \n",
            "==================================================================================================\n",
            "Total params: 11,690,505\n",
            "Trainable params: 11,690,505\n",
            "Non-trainable params: 0\n",
            "__________________________________________________________________________________________________\n"
          ],
          "name": "stdout"
        }
      ]
    },
    {
      "cell_type": "markdown",
      "metadata": {
        "id": "x0woh6YxUsnQ",
        "colab_type": "text"
      },
      "source": [
        "### Сургалт\n",
        "Дээрх моделио ашиглан сургалт хийе.\n",
        "Энэхүү хэсэгт та early stopping, learning rate scheduler зэрэг арга ашиглан үр дүнг сайжруулах бүрэн боломжтой юм.\n",
        "\n",
        "Сургалт хэрхэн явж байгаа хянахын тулд сургалтад бэлдсэн датаныхаа 80%-ийг train-нд 20%-ийг validation хийхэд ашиглая."
      ]
    },
    {
      "cell_type": "code",
      "metadata": {
        "id": "0j9o_Zxd1526",
        "colab_type": "code",
        "colab": {}
      },
      "source": [
        "BATCH_SIZE = 8 * strategy.num_replicas_in_sync\n",
        "EPOCHS = 5\n",
        "VAL_SPLIT = 0.2\n",
        "\n",
        "STEPS_PER_EPOCH = int(X_train_encoded[\"input_ids\"].shape[0] * (1-VAL_SPLIT) / BATCH_SIZE)\n",
        "\n",
        "history = model.fit(x=[X_train_encoded[\"input_ids\"], X_train_encoded[\"attention_mask\"], X_train_encoded[\"token_type_ids\"]], \n",
        "                    y=[np.array(y_train)], \n",
        "                    steps_per_epoch=STEPS_PER_EPOCH,\n",
        "                    epochs=EPOCHS,\n",
        "                    batch_size=BATCH_SIZE,\n",
        "                    validation_split=VAL_SPLIT,\n",
        "                    verbose=1)"
      ],
      "execution_count": null,
      "outputs": []
    },
    {
      "cell_type": "code",
      "metadata": {
        "id": "hT2PF3GOp-nN",
        "colab_type": "code",
        "colab": {
          "base_uri": "https://localhost:8080/",
          "height": 267
        },
        "outputId": "1b723760-4516-4041-ea94-eb5dcf6f1fb1"
      },
      "source": [
        "plt.plot(history.history[\"accuracy\"])\n",
        "plt.plot(history.history[\"val_accuracy\"])\n",
        "plt.show()"
      ],
      "execution_count": 148,
      "outputs": [
        {
          "output_type": "display_data",
          "data": {
            "image/png": "[encoded data removed]",
            "text/plain": [
              "<Figure size 432x288 with 1 Axes>"
            ]
          },
          "metadata": {
            "tags": [],
            "needs_background": "light"
          }
        }
      ]
    },
    {
      "cell_type": "markdown",
      "metadata": {
        "id": "f_0DQdSkNlyE",
        "colab_type": "text"
      },
      "source": [
        "Дээрх графикаас харахад манай модель дөнгөж эхлээд л overfit болсон харагдаж байна.\n",
        "\n",
        "Энд байга код нь ойлгоход амар байлгах үүднээс overfit-ийг багасгах ямар нэг арга хэрэглээгүй болно.\n",
        "\n",
        "Та өөрийн drive дээрээ хуулаад дуртайгаараа тоглох боломжтой байгаа."
      ]
    },
    {
      "cell_type": "code",
      "metadata": {
        "id": "ZUuG1rQx35YN",
        "colab_type": "code",
        "colab": {}
      },
      "source": [
        "# хадгалах\n",
        "file_path = \"albert-mongolian-finetuned.hdf5\"\n",
        "model.save_weights(file_path)"
      ],
      "execution_count": 149,
      "outputs": []
    },
    {
      "cell_type": "code",
      "metadata": {
        "id": "5H9OXMwT5C_M",
        "colab_type": "code",
        "colab": {
          "base_uri": "https://localhost:8080/",
          "height": 34
        },
        "outputId": "3df5e754-7374-4d89-f2e5-e05936a1396f"
      },
      "source": [
        "del model\n",
        "gc.collect()"
      ],
      "execution_count": 150,
      "outputs": [
        {
          "output_type": "execute_result",
          "data": {
            "text/plain": [
              "30219"
            ]
          },
          "metadata": {
            "tags": []
          },
          "execution_count": 150
        }
      ]
    },
    {
      "cell_type": "markdown",
      "metadata": {
        "id": "FmJPTVHI4E6g",
        "colab_type": "text"
      },
      "source": [
        "## Үр дүн\n",
        "\n",
        "Одоо сургасан моделоо ашиглаад тест дата дээр хэрхэн таамаглал хийж байгааг харцгаая!"
      ]
    },
    {
      "cell_type": "code",
      "metadata": {
        "id": "9yDU8gfc4Emz",
        "colab_type": "code",
        "colab": {
          "base_uri": "https://localhost:8080/",
          "height": 139
        },
        "outputId": "3acb1f24-cbfe-4ddf-d70f-99b0a3f823e5"
      },
      "source": [
        "trained_model = build_model()\n",
        "trained_model.load_weights(file_path)"
      ],
      "execution_count": 151,
      "outputs": [
        {
          "output_type": "stream",
          "text": [
            "WARNING:transformers.modeling_tf_utils:Some weights of the model checkpoint at bayartsogt/albert-mongolian were not used when initializing TFAlbertModel: ['predictions']\n",
            "- This IS expected if you are initializing TFAlbertModel from the checkpoint of a model trained on another task or with another architecture (e.g. initializing a BertForSequenceClassification model from a BertForPretraining model).\n",
            "- This IS NOT expected if you are initializing TFAlbertModel from the checkpoint of a model that you expect to be exactly identical (initializing a BertForSequenceClassification model from a BertForSequenceClassification model).\n",
            "WARNING:transformers.modeling_tf_utils:All the weights of TFAlbertModel were initialized from the model checkpoint at bayartsogt/albert-mongolian.\n",
            "If your task is similar to the task the model of the ckeckpoint was trained on, you can already use TFAlbertModel for predictions without further training.\n"
          ],
          "name": "stderr"
        },
        {
          "output_type": "stream",
          "text": [
            "Loss: sparse_categorical_crossentropy\n"
          ],
          "name": "stdout"
        }
      ]
    },
    {
      "cell_type": "code",
      "metadata": {
        "id": "dv-C9Ef23mva",
        "colab_type": "code",
        "colab": {
          "base_uri": "https://localhost:8080/",
          "height": 34
        },
        "outputId": "85ae8d81-df24-4915-863d-af3bdd8e0f24"
      },
      "source": [
        "prediction = trained_model.predict(x=[X_test_encoded[\"input_ids\"], X_test_encoded[\"attention_mask\"], X_test_encoded[\"token_type_ids\"]], batch_size=16, verbose=1)"
      ],
      "execution_count": 152,
      "outputs": [
        {
          "output_type": "stream",
          "text": [
            "15133/15133 [==============================] - 68s 4ms/sample\n"
          ],
          "name": "stdout"
        }
      ]
    },
    {
      "cell_type": "code",
      "metadata": {
        "id": "zLT72SJB5T6j",
        "colab_type": "code",
        "colab": {
          "base_uri": "https://localhost:8080/",
          "height": 289
        },
        "outputId": "f024719c-0f39-4b5f-a8b6-a2dcfd50986e"
      },
      "source": [
        "# prediction\n",
        "from sklearn.metrics import classification_report\n",
        "\n",
        "if len(label2id) == 2:\n",
        "    threshold = 0.5\n",
        "    y_pred = np.where(prediction>threshold, 1, 0)\n",
        "else:\n",
        "    y_pred = np.argmax(prediction, 1)\n",
        "print(classification_report(np.array(y_test), y_pred))"
      ],
      "execution_count": 153,
      "outputs": [
        {
          "output_type": "stream",
          "text": [
            "              precision    recall  f1-score   support\n",
            "\n",
            "           0       0.93      0.94      0.94      1457\n",
            "           1       0.83      0.88      0.86      2509\n",
            "           2       0.89      0.92      0.90      1159\n",
            "           3       0.89      0.87      0.88      1651\n",
            "           4       0.92      0.85      0.89      2647\n",
            "           5       0.98      0.98      0.98      2736\n",
            "           6       0.88      0.93      0.91      1102\n",
            "           7       0.80      0.80      0.80       873\n",
            "           8       0.85      0.83      0.84       999\n",
            "\n",
            "    accuracy                           0.90     15133\n",
            "   macro avg       0.89      0.89      0.89     15133\n",
            "weighted avg       0.90      0.90      0.90     15133\n",
            "\n"
          ],
          "name": "stdout"
        }
      ]
    },
    {
      "cell_type": "markdown",
      "metadata": {
        "id": "JlUNJXGVOA9s",
        "colab_type": "text"
      },
      "source": [
        "Модель ~90%-ийн нарийвчлалтай ажиллаж байна. Энэхүү үр дүн нь бага зэргийн өөрчлөлтөөр сайжрах бүрэн боломжтой юм.\n",
        "\n",
        "Одоогоор хамгийн сайн F1 score той байгаа ангилалууд нь `спорт, урлаг соёл, технологи` байгаа бол хамгийн муу нь `боловсрол, байгаль орчин, эдийн засаг` байна.\n",
        "\n",
        "Энэхүү notebook-ээр та бүхэнд albert-mongolian-ийг хэрхэн fine-tuning хийх буюу өөр төрлийн асуудалд ашиглах талаар харууллаа.\n",
        "\n",
        "Танд ямар асуух, лавлах зүйл байгаа бол доорх хаягаар холбогдох боломжтой юм.\n",
        "\n",
        "<h1 style=\"text-align:center\">Анхаарал тавьсан баярлалаа! Enjoy!<h1>\n",
        "\n",
        "|contact|url|\n",
        "|--|--|\n",
        "|E-mail  |mailto:bayartsogt@mn.data-artist.com|\n",
        "|Github  |https://github.com/bayartsogt-ya|\n",
        "|Website |https://bayartsogt-ya.github.io|\n",
        "|LinkedIn|https://www.linkedin.com/in/bayartsogt-yadamsuren-b419b217b/|\n"
      ]
    }
  ]
}